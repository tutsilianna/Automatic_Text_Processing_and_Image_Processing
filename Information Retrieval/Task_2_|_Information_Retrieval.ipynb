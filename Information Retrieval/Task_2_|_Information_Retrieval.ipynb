{
  "nbformat": 4,
  "nbformat_minor": 0,
  "metadata": {
    "colab": {
      "provenance": [],
      "include_colab_link": true
    },
    "kernelspec": {
      "name": "python3",
      "display_name": "Python 3"
    }
  },
  "cells": [
    {
      "cell_type": "markdown",
      "metadata": {
        "id": "view-in-github",
        "colab_type": "text"
      },
      "source": [
        "<a href=\"https://colab.research.google.com/github/tutsilianna/Automatic_Text_Processing_and_Image_Processing/blob/main/Information%20Retrieval/Task_2_%7C_Information_Retrieval.ipynb\" target=\"_parent\"><img src=\"https://colab.research.google.com/assets/colab-badge.svg\" alt=\"Open In Colab\"/></a>"
      ]
    },
    {
      "cell_type": "markdown",
      "metadata": {
        "id": "Vd_ST0GfO97y"
      },
      "source": [
        "# Information Retrieval\n",
        "\n",
        "Let's download the classical data set, i.e. the CRANFIELD text set on aeronautics"
      ]
    },
    {
      "cell_type": "code",
      "metadata": {
        "id": "AHflLH2APAHK",
        "colab": {
          "base_uri": "https://localhost:8080/"
        },
        "outputId": "ddc57e38-d45a-4203-fb2a-25dc27978239"
      },
      "source": [
        "! wget -q http://ir.dcs.gla.ac.uk/resources/test_collections/cran/cran.tar.gz\n",
        "! tar -xvf cran.tar.gz\n",
        "! rm cran.tar.gz*"
      ],
      "execution_count": 1,
      "outputs": [
        {
          "output_type": "stream",
          "name": "stdout",
          "text": [
            "cran.all.1400\n",
            "cran.qry\n",
            "cranqrel\n",
            "cranqrel.readme\n"
          ]
        }
      ]
    },
    {
      "cell_type": "markdown",
      "metadata": {
        "id": "zYuND83cPR5D"
      },
      "source": [
        "We take queries only (we will consider queries as documents)"
      ]
    },
    {
      "cell_type": "code",
      "metadata": {
        "id": "6owW-L7zhJws",
        "colab": {
          "base_uri": "https://localhost:8080/"
        },
        "outputId": "3b46ef75-faae-4fb9-94ee-ab4a0e5debfe"
      },
      "source": [
        "! grep -v \"^\\.\" cran.qry > just.qry\n",
        "! head -3 just.qry"
      ],
      "execution_count": 2,
      "outputs": [
        {
          "output_type": "stream",
          "name": "stdout",
          "text": [
            "what similarity laws must be obeyed when constructing aeroelastic models\r\n",
            "of heated high speed aircraft .\r\n",
            "what are the structural and aeroelastic problems associated with flight\r\n"
          ]
        }
      ]
    },
    {
      "cell_type": "markdown",
      "metadata": {
        "id": "8ZbUb6FmQxr1"
      },
      "source": [
        "We combine  multi-string queries into one"
      ]
    },
    {
      "cell_type": "code",
      "metadata": {
        "id": "SBaV3xeQiUam",
        "colab": {
          "base_uri": "https://localhost:8080/"
        },
        "outputId": "a8f24add-8070-4fce-fe88-7acb68b6d0be"
      },
      "source": [
        "raw_query_data = [line.strip() for line in open(\"just.qry\", \"r\").readlines()]\n",
        "query_data = [\"\"]\n",
        "\n",
        "for query_part in raw_query_data:\n",
        "  query_data[-1] += query_part + \" \"\n",
        "  if query_part.endswith(\".\"):\n",
        "    query_data.append(\"\")\n",
        "\n",
        "query_data[:2] #Let's output the couple of documents as an example"
      ],
      "execution_count": 3,
      "outputs": [
        {
          "output_type": "execute_result",
          "data": {
            "text/plain": [
              "['what similarity laws must be obeyed when constructing aeroelastic models of heated high speed aircraft . ',\n",
              " 'what are the structural and aeroelastic problems associated with flight of high speed aircraft . ']"
            ]
          },
          "metadata": {},
          "execution_count": 3
        }
      ]
    },
    {
      "cell_type": "markdown",
      "metadata": {
        "id": "nLFq_6lBki3S"
      },
      "source": [
        "### Let's make queries to our documents"
      ]
    },
    {
      "cell_type": "code",
      "metadata": {
        "id": "h3sgHjWkjjR1"
      },
      "source": [
        "QUERIES = ['theory of bending', 'aeroelastic effects']"
      ],
      "execution_count": 4,
      "outputs": []
    },
    {
      "cell_type": "markdown",
      "metadata": {
        "id": "hQMdH0HSkoJg"
      },
      "source": [
        "## Boolean retrieval\n",
        "Let's represent each document as a \"bitmask\": that is a vector with a dimensionality equal to the vocabulary size, which has 1 at every position if the document contains the corresponding term; and 0 if it does not"
      ]
    },
    {
      "cell_type": "code",
      "metadata": {
        "id": "lhrI18rZSLLz",
        "colab": {
          "base_uri": "https://localhost:8080/"
        },
        "outputId": "06c299a3-3e88-432d-c510-443b14d45f04"
      },
      "source": [
        "# in different versions the answer could also differ, therefore it's important to have the same version\n",
        "! pip install -q scikit-learn==1.4.2 # 0.22.2.post1"
      ],
      "execution_count": 5,
      "outputs": [
        {
          "output_type": "stream",
          "name": "stdout",
          "text": [
            "\u001b[2K     \u001b[90m━━━━━━━━━━━━━━━━━━━━━━━━━━━━━━━━━━━━━━━━\u001b[0m \u001b[32m12.1/12.1 MB\u001b[0m \u001b[31m22.7 MB/s\u001b[0m eta \u001b[36m0:00:00\u001b[0m\n",
            "\u001b[?25h"
          ]
        }
      ]
    },
    {
      "cell_type": "code",
      "metadata": {
        "id": "DbTOdsHIknD0",
        "colab": {
          "base_uri": "https://localhost:8080/"
        },
        "outputId": "43b506ba-616c-4d55-c6b3-9765ba875ebc"
      },
      "source": [
        "from  sklearn.feature_extraction.text import CountVectorizer\n",
        "\n",
        "encoder = CountVectorizer(binary=True)\n",
        "encoded_data = encoder.fit_transform(query_data)\n",
        "encoded_queries = encoder.transform(QUERIES)\n",
        "list(encoder.vocabulary_)[:3]"
      ],
      "execution_count": 6,
      "outputs": [
        {
          "output_type": "execute_result",
          "data": {
            "text/plain": [
              "['what', 'similarity', 'laws']"
            ]
          },
          "metadata": {},
          "execution_count": 6
        }
      ]
    },
    {
      "cell_type": "markdown",
      "metadata": {
        "id": "oUdwKDKSTjdD"
      },
      "source": [
        "Let's look at the representation of the first sentence"
      ]
    },
    {
      "cell_type": "code",
      "metadata": {
        "id": "oXEmXErylJdX",
        "colab": {
          "base_uri": "https://localhost:8080/"
        },
        "outputId": "ef62d40f-46b4-4359-8372-7754ef71e80a"
      },
      "source": [
        "id2term = {idx: term for term, idx in encoder.vocabulary_.items()}\n",
        "non_zero_values_ids = encoded_data[0].nonzero()[1]\n",
        "\n",
        "terms = [id2term[idx] for idx in non_zero_values_ids]\n",
        "terms"
      ],
      "execution_count": 7,
      "outputs": [
        {
          "output_type": "execute_result",
          "data": {
            "text/plain": [
              "['what',\n",
              " 'similarity',\n",
              " 'laws',\n",
              " 'must',\n",
              " 'be',\n",
              " 'obeyed',\n",
              " 'when',\n",
              " 'constructing',\n",
              " 'aeroelastic',\n",
              " 'models',\n",
              " 'of',\n",
              " 'heated',\n",
              " 'high',\n",
              " 'speed',\n",
              " 'aircraft']"
            ]
          },
          "metadata": {},
          "execution_count": 7
        }
      ]
    },
    {
      "cell_type": "markdown",
      "metadata": {
        "id": "l8wdS9XiVwb2"
      },
      "source": [
        "It's fine.\n",
        "\n",
        "## Task 0\n",
        "\n",
        "Now for each query from `QUERIES` let's find the nearest document from `query_data` according to the Jaccard similarity index. There are more effictive solutions to do it, but your task is to realize the algorithm computing the Jaccard index and then apply it to our data."
      ]
    },
    {
      "cell_type": "code",
      "metadata": {
        "id": "u31WuBYAUWt2"
      },
      "source": [
        "import numpy as np\n",
        "\n",
        "def jaccard_sim(vector_a: np.array, vector_b: np.array) -> float:\n",
        "    \"\"\"\n",
        "        Similarity or Jaccard similarity index: the ratio of the intersection cardinality to the union cardinality\n",
        "    \"\"\"\n",
        "    intersection = np.logical_and(vector_a, vector_b)\n",
        "    union = np.logical_or(vector_a, vector_b)\n",
        "    similarity = intersection.sum() / float(union.sum())\n",
        "\n",
        "    return similarity\n",
        "\n",
        "#Check that the function works correctly\n",
        "assert jaccard_sim(np.array([1, 0, 1, 0, 1]), np.array([0, 1, 1, 1, 1])) == 0.4"
      ],
      "execution_count": 8,
      "outputs": []
    },
    {
      "cell_type": "markdown",
      "metadata": {
        "id": "dYfQksWrOR1G"
      },
      "source": [
        "## Task 1\n",
        "Now using the code below find the most similar documents for each query."
      ]
    },
    {
      "cell_type": "code",
      "metadata": {
        "id": "4okpFpA6OAQs",
        "colab": {
          "base_uri": "https://localhost:8080/"
        },
        "outputId": "d20170bb-5786-4ec8-c102-e8702d0b3cb2"
      },
      "source": [
        "for q_id, query in enumerate(encoded_queries):\n",
        "  # bring to the required datatype\n",
        "  query = query.todense().A1\n",
        "  docs = [doc.todense().A1 for doc in encoded_data]\n",
        "  # calculate the Jaccard index\n",
        "  id2doc2similarity = [(doc_id, doc, jaccard_sim(query, doc)) for doc_id, doc in enumerate(docs)]\n",
        "  # sort according to it\n",
        "  closest = sorted(id2doc2similarity, key=lambda x: x[2], reverse=True)\n",
        "\n",
        "  print(\"Q: %s\\nFOUND:\" % QUERIES[q_id])\n",
        "  # output 3 most similar documents for each query\n",
        "  for closest_id, _, sim in closest[:3]:\n",
        "    print(\"    %d\\t%.2f\\t%s\" %(closest_id, sim, query_data[closest_id]))\n",
        "\n"
      ],
      "execution_count": 9,
      "outputs": [
        {
          "output_type": "stream",
          "name": "stdout",
          "text": [
            "Q: theory of bending\n",
            "FOUND:\n",
            "    42\t0.20\twhat are the details of the rigorous kinetic theory of gases . \n",
            "    43\t0.20\t(chapman-enskog theory) . \n",
            "    146\t0.19\tdoes a membrane theory exist by which the behaviour of pressurized membrane cylinders in bending can be predicted . \n",
            "Q: aeroelastic effects\n",
            "FOUND:\n",
            "    196\t0.14\tthe problem of similarity for representative investigation of aeroelastic effects in a flow with the absence of heating effects . \n",
            "    204\t0.12\tdo viscous effects seriously modify pressure distributions . \n",
            "    114\t0.12\tis the problem of similarity for representative investigations of aeroelastic effects in heated flow as intractable as previous investigations imply . \n"
          ]
        }
      ]
    },
    {
      "cell_type": "markdown",
      "metadata": {
        "id": "A1Fh8RdvOrAD"
      },
      "source": [
        "We see that some texts intersecting with the query only in insignificant terms have a high Jaccard index (that is our ranking function).\n",
        "\n",
        "# VSM\n",
        "\n",
        "Now we are going to do similar calculations, but using tf-idf and cosine distance. To practice we make everything \"manually\", but in \"real life\" it's better to use existing effective solutions, e.g., cosine distance from scipy library."
      ]
    },
    {
      "cell_type": "code",
      "metadata": {
        "id": "DmpKMI08E2iO",
        "colab": {
          "base_uri": "https://localhost:8080/"
        },
        "outputId": "ad5d52d7-240d-4c55-b48e-1b213b4058d5"
      },
      "source": [
        "from  sklearn.feature_extraction.text import TfidfVectorizer\n",
        "\n",
        "# Advice: we highly recommend to check what tf-idf vectorizer\n",
        "# is able to do, and change its parameters\n",
        "\n",
        "tfidf_encoder = TfidfVectorizer()\n",
        "tfidf_encoded_data = tfidf_encoder.fit_transform(query_data)\n",
        "tfidf_encoded_queries = tfidf_encoder.transform(QUERIES)\n",
        "\n",
        "list(tfidf_encoder.vocabulary_)[:3]"
      ],
      "execution_count": 10,
      "outputs": [
        {
          "output_type": "execute_result",
          "data": {
            "text/plain": [
              "['what', 'similarity', 'laws']"
            ]
          },
          "metadata": {},
          "execution_count": 10
        }
      ]
    },
    {
      "cell_type": "markdown",
      "metadata": {
        "id": "hHTzIjfNRHj2"
      },
      "source": [
        "## Task 2\n",
        "Realize the cosine distance computation"
      ]
    },
    {
      "cell_type": "code",
      "metadata": {
        "id": "UCfgR6xEPeDn"
      },
      "source": [
        "import numpy as np\n",
        "\n",
        "def cosine_distance(vector_a: np.array, vector_b: np.array) -> float:\n",
        "  \"\"\"\n",
        "    Cosine distance is 1 minus the ratio of the dot product\n",
        "    and the product of L2-norm (hint: there are such norms in numpy)\n",
        "  \"\"\"\n",
        "  return 1 - (sum(vector_a * vector_b)) / (np.linalg.norm(vector_a, 2) * np.linalg.norm(vector_b, 2))\n",
        "\n",
        "  return\n",
        "#Check that the function is working correctly\n",
        "assert cosine_distance(np.array([1, 0, 1, 1, 1]), np.array([0, 0, 1, 0, 0])) == 0.5"
      ],
      "execution_count": 11,
      "outputs": []
    },
    {
      "cell_type": "markdown",
      "metadata": {
        "id": "vJHsaHoORlEC"
      },
      "source": [
        "\n",
        "Now let's find the nearset documents to the query according to the cosine distance between the document vector and the query representation"
      ]
    },
    {
      "cell_type": "code",
      "metadata": {
        "id": "fIZJRBKQQR1G",
        "colab": {
          "base_uri": "https://localhost:8080/"
        },
        "outputId": "c25daf61-13dd-4b8a-ba82-4b40a63dd723"
      },
      "source": [
        "for q_id, query in enumerate(tfidf_encoded_queries):\n",
        "\n",
        "  # bring to the required datatype\n",
        "  query = query.todense().A1\n",
        "  docs = [doc.todense().A1 for doc in tfidf_encoded_data]\n",
        "  # Cosine distance\n",
        "  id2doc2similarity = [(doc_id, doc, cosine_distance(query, doc)) \\\n",
        "                       for doc_id, doc in enumerate(docs)]\n",
        "  # sort according to it\n",
        "  closest = sorted(id2doc2similarity, key=lambda x: x[2], reverse=False)\n",
        "\n",
        "  print(\"Q: %s\\nFOUND:\" % QUERIES[q_id])\n",
        "\n",
        "  for closest_id, _, sim in closest[:3]:\n",
        "    print(\"    %d\\t%.2f\\t%s\" %(closest_id, sim, query_data[closest_id]))"
      ],
      "execution_count": 12,
      "outputs": [
        {
          "output_type": "stream",
          "name": "stdout",
          "text": [
            "Q: theory of bending\n",
            "FOUND:\n",
            "    145\t0.65\twhat are the best experimental data and classical small deflection theory analyses available for pressurized cylinders in bending . \n",
            "    146\t0.66\tdoes a membrane theory exist by which the behaviour of pressurized membrane cylinders in bending can be predicted . \n",
            "    111\t0.66\thas the solution of the clamped plate problem,  in the classical theory of bending,  been reduced to two successive membrane boundary value problems . \n",
            "Q: aeroelastic effects\n",
            "FOUND:\n",
            "    196\t0.51\tthe problem of similarity for representative investigation of aeroelastic effects in a flow with the absence of heating effects . \n",
            "    114\t0.70\tis the problem of similarity for representative investigations of aeroelastic effects in heated flow as intractable as previous investigations imply . \n",
            "    1\t0.74\twhat are the structural and aeroelastic problems associated with flight of high speed aircraft . \n"
          ]
        },
        {
          "output_type": "stream",
          "name": "stderr",
          "text": [
            "<ipython-input-11-8480f11dfbd1>:8: RuntimeWarning: invalid value encountered in scalar divide\n",
            "  return 1 - (sum(vector_a * vector_b)) / (np.linalg.norm(vector_a, 2) * np.linalg.norm(vector_b, 2))\n"
          ]
        }
      ]
    },
    {
      "cell_type": "markdown",
      "source": [
        "## Individual task\n",
        "\n",
        "\n",
        "Using queries to texts from the CRANFIELD text set on aeronautics (the same is used in the example) as documents, find the pair of documents that are the most similar to the specified query.\n",
        "\n",
        "### The text of the query: **supersonic cascade**.\n",
        "\n",
        "1. Enter the index of the most similar document according to the Jaccard similarity index\n",
        "2. Enter the value of the Jaccard similarity index of the most similar document\n",
        "3. Enter the index of the second most similar document according to the Jaccard similarity index\n",
        "4. Enter the value of the Jaccard similarity index of the second most similar document"
      ],
      "metadata": {
        "id": "kOA0Ib1e6gyu"
      }
    },
    {
      "cell_type": "markdown",
      "source": [
        "### Let's redefine queries to our documents"
      ],
      "metadata": {
        "id": "kMRrKdAtJzF-"
      }
    },
    {
      "cell_type": "code",
      "source": [
        "QUERIES = ['supersonic cascade']"
      ],
      "metadata": {
        "id": "v_2CEbf873mg"
      },
      "execution_count": 13,
      "outputs": []
    },
    {
      "cell_type": "code",
      "source": [
        "encoder = CountVectorizer(binary=True)\n",
        "encoded_data = encoder.fit_transform(query_data)\n",
        "encoded_queries = encoder.transform(QUERIES)\n",
        "list(encoder.vocabulary_)[:3]"
      ],
      "metadata": {
        "colab": {
          "base_uri": "https://localhost:8080/"
        },
        "id": "JH6zxp5dLKRw",
        "outputId": "f6b236d0-df6b-43e1-9c1f-7977cc2e9ddd"
      },
      "execution_count": 14,
      "outputs": [
        {
          "output_type": "execute_result",
          "data": {
            "text/plain": [
              "['what', 'similarity', 'laws']"
            ]
          },
          "metadata": {},
          "execution_count": 14
        }
      ]
    },
    {
      "cell_type": "code",
      "source": [
        "for q_id, query in enumerate(encoded_queries):\n",
        "  # bring to the required datatype\n",
        "  query = query.todense().A1\n",
        "  docs = [doc.todense().A1 for doc in encoded_data]\n",
        "  # calculate the Jaccard index\n",
        "  id2doc2similarity = [(doc_id, doc, jaccard_sim(query, doc)) for doc_id, doc in enumerate(docs)]\n",
        "  # sort according to it\n",
        "  closest = sorted(id2doc2similarity, key=lambda x: x[2], reverse=True)\n",
        "\n",
        "  print(\"Q: %s\\nFOUND:\" % QUERIES[q_id])\n",
        "  # output 3 most similar documents for each query\n",
        "  for closest_id, _, sim in closest[:3]:\n",
        "    print(\"    %d\\t%.2f\\t%s\" %(closest_id, sim, query_data[closest_id]))\n",
        "\n"
      ],
      "metadata": {
        "colab": {
          "base_uri": "https://localhost:8080/"
        },
        "id": "UAr9aa5OLBjJ",
        "outputId": "37c67638-c285-453d-fb54-4b02ef50f7a9"
      },
      "execution_count": 15,
      "outputs": [
        {
          "output_type": "stream",
          "name": "stdout",
          "text": [
            "Q: supersonic cascade\n",
            "FOUND:\n",
            "    24\t0.12\tdoes a practical flow follow the theoretical concepts for the interaction between adjacent blade rows of a supersonic cascade . \n",
            "    181\t0.12\tjet interference with supersonic flows theoretical papers . \n",
            "    125\t0.11\tjet interference with supersonic flow  -dash experimental papers . \n"
          ]
        }
      ]
    },
    {
      "cell_type": "markdown",
      "source": [
        "### The text of the query: **swept cylinders**.\n",
        "\n",
        "1. Enter the index of the most similar document according to the cosine distance\n",
        "2. Enter the value of the cosine distance for the most similar document\n",
        "3. Enter the index of the second most similar document according to the cosine distance\n",
        "4. Enter the value of the cosine distance for the second most similar document"
      ],
      "metadata": {
        "id": "0XYH08NB7w3m"
      }
    },
    {
      "cell_type": "code",
      "source": [
        "QUERIES =['swept cylinders']"
      ],
      "metadata": {
        "id": "uSeDxuYDLLz_"
      },
      "execution_count": 16,
      "outputs": []
    },
    {
      "cell_type": "code",
      "source": [
        "tfidf_encoder = TfidfVectorizer()\n",
        "tfidf_encoded_data = tfidf_encoder.fit_transform(query_data)\n",
        "tfidf_encoded_queries = tfidf_encoder.transform(QUERIES)\n",
        "\n",
        "list(tfidf_encoder.vocabulary_)[:3]"
      ],
      "metadata": {
        "id": "CrMFGr2M7WcL",
        "colab": {
          "base_uri": "https://localhost:8080/"
        },
        "outputId": "264658e2-c3bc-4e74-f4b1-9dba7100766c"
      },
      "execution_count": 17,
      "outputs": [
        {
          "output_type": "execute_result",
          "data": {
            "text/plain": [
              "['what', 'similarity', 'laws']"
            ]
          },
          "metadata": {},
          "execution_count": 17
        }
      ]
    },
    {
      "cell_type": "code",
      "source": [
        "for q_id, query in enumerate(tfidf_encoded_queries):\n",
        "\n",
        "  # bring to the required datatype\n",
        "  query = query.todense().A1\n",
        "  docs = [doc.todense().A1 for doc in tfidf_encoded_data]\n",
        "  # Cosine distance\n",
        "  id2doc2similarity = [(doc_id, doc, cosine_distance(query, doc)) \\\n",
        "                       for doc_id, doc in enumerate(docs)]\n",
        "  # sort according to it\n",
        "  closest = sorted(id2doc2similarity, key=lambda x: x[2], reverse=False)\n",
        "\n",
        "  print(\"Q: %s\\nFOUND:\" % QUERIES[q_id])\n",
        "\n",
        "  for closest_id, _, sim in closest[:3]:\n",
        "    print(\"    %d\\t%.2f\\t%s\" %(closest_id, sim, query_data[closest_id]))"
      ],
      "metadata": {
        "colab": {
          "base_uri": "https://localhost:8080/"
        },
        "id": "5WvqfIVBLyQz",
        "outputId": "57aa8280-b5cd-44d4-e6dc-52b97cd70e4d"
      },
      "execution_count": 18,
      "outputs": [
        {
          "output_type": "stream",
          "name": "stdout",
          "text": [
            "Q: swept cylinders\n",
            "FOUND:\n",
            "    62\t0.49\twhere can i find pressure data on surfaces of swept cylinders . \n",
            "    81\t0.79\thow do kuchemann's and multhopp's methods for calculating lift distributions on swept wings in subsonic flow compare with each other and with experiment . \n",
            "    148\t0.80\tpapers on small deflection theory for buckling of sandwich cylinders . \n"
          ]
        },
        {
          "output_type": "stream",
          "name": "stderr",
          "text": [
            "<ipython-input-11-8480f11dfbd1>:8: RuntimeWarning: invalid value encountered in scalar divide\n",
            "  return 1 - (sum(vector_a * vector_b)) / (np.linalg.norm(vector_a, 2) * np.linalg.norm(vector_b, 2))\n"
          ]
        }
      ]
    }
  ]
}